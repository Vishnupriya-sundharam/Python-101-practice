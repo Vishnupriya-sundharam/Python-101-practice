{
  "nbformat": 4,
  "nbformat_minor": 0,
  "metadata": {
    "colab": {
      "provenance": []
    },
    "kernelspec": {
      "name": "python3",
      "display_name": "Python 3"
    },
    "language_info": {
      "name": "python"
    }
  },
  "cells": [
    {
      "cell_type": "code",
      "execution_count": null,
      "metadata": {
        "colab": {
          "base_uri": "https://localhost:8080/"
        },
        "id": "DZkaImMB2i5Q",
        "outputId": "c2877877-f736-4e1b-ce29-6762dc8b0a11"
      },
      "outputs": [
        {
          "output_type": "stream",
          "name": "stdout",
          "text": [
            "[[-0.12109372 -0.10762067]\n",
            " [-0.78542109 -1.49692817]\n",
            " [ 0.73937442  0.6040869 ]\n",
            " [ 0.14498344 -1.38157278]\n",
            " [-0.08413389 -0.49114499]]\n"
          ]
        }
      ],
      "source": [
        "import numpy as np\n",
        "arr=np.random.randn(5,2)\n",
        "print(arr)"
      ]
    },
    {
      "cell_type": "markdown",
      "source": [
        "## **Split**\n",
        "\n",
        "*   In split function the split points that divide the array should mentioned exactly(i.e equla number of split point).\n",
        "\n",
        "\n"
      ],
      "metadata": {
        "id": "TVknMh6L5CxM"
      }
    },
    {
      "cell_type": "code",
      "source": [
        "first,second,third=np.split(arr,[1,3])\n",
        "print(first,\"\\n\")\n",
        "print(second,\"\\n\")\n",
        "print(third)"
      ],
      "metadata": {
        "colab": {
          "base_uri": "https://localhost:8080/"
        },
        "id": "gcPYqTLx2scD",
        "outputId": "4a32e170-f07e-415e-ec2c-2abe75025eaa"
      },
      "execution_count": null,
      "outputs": [
        {
          "output_type": "stream",
          "name": "stdout",
          "text": [
            "[[-0.12109372 -0.10762067]] \n",
            "\n",
            "[[-0.78542109 -1.49692817]\n",
            " [ 0.73937442  0.6040869 ]] \n",
            "\n",
            "[[ 0.14498344 -1.38157278]\n",
            " [-0.08413389 -0.49114499]]\n"
          ]
        }
      ]
    },
    {
      "cell_type": "markdown",
      "source": [
        "# **np.array_split(arr,split_parts)**\n",
        "\n",
        "\n",
        "*   Allows you to split an array into unequal parts without requiring exact divisibility.\n",
        "\n",
        "\n"
      ],
      "metadata": {
        "id": "GYAUyk-z60qF"
      }
    },
    {
      "cell_type": "code",
      "source": [
        "arr1=np.random.randn(5,2)\n",
        "print(arr1,\"\\n\")\n",
        "arr2=np.array_split(arr1,3)\n",
        "print(arr2)"
      ],
      "metadata": {
        "colab": {
          "base_uri": "https://localhost:8080/"
        },
        "id": "LOHF5fck27Vx",
        "outputId": "7493ada2-5f84-4d62-ba7f-0333986e6c1f"
      },
      "execution_count": null,
      "outputs": [
        {
          "output_type": "stream",
          "name": "stdout",
          "text": [
            "[[-1.17371687 -1.54749074]\n",
            " [-0.01755694  0.35105934]\n",
            " [ 0.59415456  0.10543321]\n",
            " [-0.36867484 -0.05443055]\n",
            " [-0.84411155 -1.04472681]] \n",
            "\n",
            "[array([[-1.17371687, -1.54749074],\n",
            "       [-0.01755694,  0.35105934]]), array([[ 0.59415456,  0.10543321],\n",
            "       [-0.36867484, -0.05443055]]), array([[-0.84411155, -1.04472681]])]\n"
          ]
        }
      ]
    },
    {
      "cell_type": "markdown",
      "source": [
        "## **row_concatenation (Method 2)refer method 1 in numpy folder**"
      ],
      "metadata": {
        "id": "2CFLlxNp79l4"
      }
    },
    {
      "cell_type": "markdown",
      "source": [
        "\n",
        "\n",
        "*   np.r_->short form of row concatenaion ,it combines the array in row-wise\n",
        "* np.concatenate((arr1,arr2),axis=0/1)\n",
        "\n"
      ],
      "metadata": {
        "id": "SvYUgJ818ePA"
      }
    },
    {
      "cell_type": "code",
      "source": [
        "arr=np.arange(6)\n",
        "print(arr)\n",
        "arr1=arr.reshape(3,2)\n",
        "print(\"array 1 \",arr1,\"\\n\")\n",
        "arr2=arr.reshape(3,2)\n",
        "print(\"array 2 \",arr2,\"\\n\")\n"
      ],
      "metadata": {
        "colab": {
          "base_uri": "https://localhost:8080/"
        },
        "id": "PAG_kDp07JAX",
        "outputId": "5260adab-0329-4b74-8416-b49087ff9482"
      },
      "execution_count": null,
      "outputs": [
        {
          "output_type": "stream",
          "name": "stdout",
          "text": [
            "[0 1 2 3 4 5]\n",
            "array 1  [[0 1]\n",
            " [2 3]\n",
            " [4 5]] \n",
            "\n",
            "array 2  [[0 1]\n",
            " [2 3]\n",
            " [4 5]] \n",
            "\n"
          ]
        }
      ]
    },
    {
      "cell_type": "code",
      "source": [
        "row_con=np.r_[arr1,arr2]\n",
        "print(\"One dimension array : \",row_con,\"\\n\")\n",
        "row2_con=np.r_[[arr1,arr2]]\n",
        "print(\"Two dimension array : \",row2_con)"
      ],
      "metadata": {
        "colab": {
          "base_uri": "https://localhost:8080/"
        },
        "id": "9H6iIzo_9KW1",
        "outputId": "59833df8-855e-4ebe-d0d4-6ef9a933e757"
      },
      "execution_count": null,
      "outputs": [
        {
          "output_type": "stream",
          "name": "stdout",
          "text": [
            "One dimension array :  [[0 1]\n",
            " [2 3]\n",
            " [4 5]\n",
            " [0 1]\n",
            " [2 3]\n",
            " [4 5]] \n",
            "\n",
            "Two dimension array :  [[[0 1]\n",
            "  [2 3]\n",
            "  [4 5]]\n",
            "\n",
            " [[0 1]\n",
            "  [2 3]\n",
            "  [4 5]]]\n"
          ]
        }
      ]
    },
    {
      "cell_type": "markdown",
      "source": [
        "### **Column contenation(Method 2)**"
      ],
      "metadata": {
        "id": "RQa6JoKI-czn"
      }
    },
    {
      "cell_type": "code",
      "source": [
        "col_conc=np.c_[arr1,arr2]\n",
        "print(col_conc)"
      ],
      "metadata": {
        "colab": {
          "base_uri": "https://localhost:8080/"
        },
        "id": "1cBSWqUC9z07",
        "outputId": "c1badda4-b724-4bca-b9ab-e823da107ca5"
      },
      "execution_count": null,
      "outputs": [
        {
          "output_type": "stream",
          "name": "stdout",
          "text": [
            "[[0 1 0 1]\n",
            " [2 3 2 3]\n",
            " [4 5 4 5]]\n"
          ]
        }
      ]
    },
    {
      "cell_type": "markdown",
      "source": [
        "### **Repeating(arr.repeat(no.of times)) and replicating(arr.tile(no.of time))**\n",
        "\n",
        "*   These two methods helps in array manipulation of various operation (add,sub..)like broadcasting,reshaping,transformation and so on..\n",
        "\n",
        "*   Repeat->function helps to **repeat each elements in the array**.\n",
        "\n",
        "\n",
        "\n",
        "\n",
        "\n"
      ],
      "metadata": {
        "id": "Kc7_nodxC7-K"
      }
    },
    {
      "cell_type": "code",
      "source": [
        "arr=np.arange(3)\n",
        "arr.repeat(3) #repeats every element 3 times"
      ],
      "metadata": {
        "colab": {
          "base_uri": "https://localhost:8080/"
        },
        "id": "Y3xEXZDr-pCc",
        "outputId": "1030ded0-0d59-43db-ef74-abcf9b3d6f67"
      },
      "execution_count": null,
      "outputs": [
        {
          "output_type": "execute_result",
          "data": {
            "text/plain": [
              "array([0, 0, 0, 1, 1, 1, 2, 2, 2])"
            ]
          },
          "metadata": {},
          "execution_count": 34
        }
      ]
    },
    {
      "cell_type": "code",
      "source": [
        "arr.repeat([2,3,4]) #each element in the array is repeated different times\n",
        "#the no.of repeated elements should be matched to the size of elements mentioned in arange function"
      ],
      "metadata": {
        "colab": {
          "base_uri": "https://localhost:8080/"
        },
        "id": "-k0Kt_buDaLi",
        "outputId": "e941df42-952d-4e3b-e86b-efdcb80cccfb"
      },
      "execution_count": null,
      "outputs": [
        {
          "output_type": "execute_result",
          "data": {
            "text/plain": [
              "array([0, 0, 1, 1, 1, 2, 2, 2, 2])"
            ]
          },
          "metadata": {},
          "execution_count": 35
        }
      ]
    },
    {
      "cell_type": "markdown",
      "source": [
        "## **Multi-dimensional array repeatation on specific axis**\n",
        "\n",
        "*    If no axis is passed, the array will be flattened first\n",
        "\n",
        "\n"
      ],
      "metadata": {
        "id": "7hqCklA6EhYu"
      }
    },
    {
      "cell_type": "code",
      "source": [
        "m_arr=np.random.randn(2,2)\n",
        "m_arr.repeat(2,axis=0)"
      ],
      "metadata": {
        "colab": {
          "base_uri": "https://localhost:8080/"
        },
        "id": "vrcYBf69Duoy",
        "outputId": "4d0747d5-1bb1-4476-bd1c-1ef69d0cacd6"
      },
      "execution_count": null,
      "outputs": [
        {
          "output_type": "execute_result",
          "data": {
            "text/plain": [
              "array([[ 0.15870215, -0.53760236],\n",
              "       [ 0.15870215, -0.53760236],\n",
              "       [ 0.54676747, -1.51747421],\n",
              "       [ 0.54676747, -1.51747421]])"
            ]
          },
          "metadata": {},
          "execution_count": 36
        }
      ]
    },
    {
      "cell_type": "code",
      "source": [
        "m_arr.repeat([1,2],axis=0)"
      ],
      "metadata": {
        "colab": {
          "base_uri": "https://localhost:8080/"
        },
        "id": "o1b3wajIFOlk",
        "outputId": "549b03c7-c302-46be-de25-f862ee43cce9"
      },
      "execution_count": null,
      "outputs": [
        {
          "output_type": "execute_result",
          "data": {
            "text/plain": [
              "array([[ 0.15870215, -0.53760236],\n",
              "       [ 0.54676747, -1.51747421],\n",
              "       [ 0.54676747, -1.51747421]])"
            ]
          },
          "metadata": {},
          "execution_count": 38
        }
      ]
    },
    {
      "cell_type": "code",
      "source": [
        "m_arr.repeat(2,axis=1)"
      ],
      "metadata": {
        "colab": {
          "base_uri": "https://localhost:8080/"
        },
        "id": "BHrRBYTYE3a6",
        "outputId": "4fa14fac-4dcd-4cfc-9e35-af3dc83d21a7"
      },
      "execution_count": null,
      "outputs": [
        {
          "output_type": "execute_result",
          "data": {
            "text/plain": [
              "array([[ 0.15870215,  0.15870215, -0.53760236, -0.53760236],\n",
              "       [ 0.54676747,  0.54676747, -1.51747421, -1.51747421]])"
            ]
          },
          "metadata": {},
          "execution_count": 37
        }
      ]
    },
    {
      "cell_type": "markdown",
      "source": [
        "### **Replicate->(np.tile(arr,no.of times repeated))**\n",
        "* The **entire array structure is repeated rather** than each element.\n",
        "\n",
        "*   Second argument is how many times the array has to repeat it usually repeated in row-by-row wise\n",
        "*   np.title(arr,**(no.of times_row_repeated,no_of_times_column_repeated)**)\n",
        "\n"
      ],
      "metadata": {
        "id": "RG_MFPS3GjXV"
      }
    },
    {
      "cell_type": "code",
      "source": [
        "m_arr\n",
        "np.tile(m_arr,2)"
      ],
      "metadata": {
        "colab": {
          "base_uri": "https://localhost:8080/"
        },
        "id": "RppbQLlTE7SX",
        "outputId": "db67aafc-7e65-4ce3-d3e3-fdb009879a7c"
      },
      "execution_count": null,
      "outputs": [
        {
          "output_type": "execute_result",
          "data": {
            "text/plain": [
              "array([[ 0.15870215, -0.53760236,  0.15870215, -0.53760236],\n",
              "       [ 0.54676747, -1.51747421,  0.54676747, -1.51747421]])"
            ]
          },
          "metadata": {},
          "execution_count": 41
        }
      ]
    },
    {
      "cell_type": "code",
      "source": [
        "np.tile(m_arr,(2,1))"
      ],
      "metadata": {
        "colab": {
          "base_uri": "https://localhost:8080/"
        },
        "id": "RBIF_K45IKY5",
        "outputId": "f960a3e8-9629-46be-c693-481e7bbf762a"
      },
      "execution_count": null,
      "outputs": [
        {
          "output_type": "execute_result",
          "data": {
            "text/plain": [
              "array([[ 0.15870215, -0.53760236],\n",
              "       [ 0.54676747, -1.51747421],\n",
              "       [ 0.15870215, -0.53760236],\n",
              "       [ 0.54676747, -1.51747421]])"
            ]
          },
          "metadata": {},
          "execution_count": 42
        }
      ]
    },
    {
      "cell_type": "code",
      "source": [
        "import numpy as np\n",
        "arr=np.arange(10)\n",
        "print(np.sum(arr))"
      ],
      "metadata": {
        "id": "NPHTHxJ-Ih6Y",
        "colab": {
          "base_uri": "https://localhost:8080/"
        },
        "outputId": "6618d058-4e52-4bfd-bff5-4c6cb5f71dab"
      },
      "execution_count": null,
      "outputs": [
        {
          "output_type": "stream",
          "name": "stdout",
          "text": [
            "45\n"
          ]
        }
      ]
    },
    {
      "cell_type": "code",
      "source": [
        "np.add.reduce(arr)"
      ],
      "metadata": {
        "colab": {
          "base_uri": "https://localhost:8080/"
        },
        "id": "QgtQqL2_kLBN",
        "outputId": "037dfd48-2f09-4ddb-8ae9-c66d7f24ccd7"
      },
      "execution_count": null,
      "outputs": [
        {
          "output_type": "execute_result",
          "data": {
            "text/plain": [
              "45"
            ]
          },
          "metadata": {},
          "execution_count": 3
        }
      ]
    },
    {
      "cell_type": "markdown",
      "source": [
        "## **Setting Array Values by Broadcasting**\n",
        "\n",
        "*  Creating 2D array here and initializing the new values\n",
        "\n",
        "\n"
      ],
      "metadata": {
        "id": "pqxSnVS3iIzQ"
      }
    },
    {
      "cell_type": "code",
      "source": [
        "import numpy as np\n",
        "arr=np.zeros((4, 3))\n",
        "print(arr)"
      ],
      "metadata": {
        "id": "i3Nua0QYkWVr",
        "colab": {
          "base_uri": "https://localhost:8080/"
        },
        "outputId": "4911835d-03e8-4f20-d640-fc72c260f13e"
      },
      "execution_count": null,
      "outputs": [
        {
          "output_type": "stream",
          "name": "stdout",
          "text": [
            "[[0. 0. 0.]\n",
            " [0. 0. 0.]\n",
            " [0. 0. 0.]\n",
            " [0. 0. 0.]]\n"
          ]
        }
      ]
    },
    {
      "cell_type": "code",
      "source": [
        "arr[1:3]=5\n",
        "print(arr)"
      ],
      "metadata": {
        "colab": {
          "base_uri": "https://localhost:8080/"
        },
        "id": "cMh2EJN0eZti",
        "outputId": "8442c472-0bcd-419f-a3ed-33ac8a264da0"
      },
      "execution_count": null,
      "outputs": [
        {
          "output_type": "stream",
          "name": "stdout",
          "text": [
            "[[1.28 1.28 1.28]\n",
            " [5.   5.   5.  ]\n",
            " [5.   5.   5.  ]\n",
            " [1.6  1.6  1.6 ]]\n"
          ]
        }
      ]
    },
    {
      "cell_type": "markdown",
      "source": [
        "Converting 1D array into 2D array\n",
        "\n",
        "*The arr should have a compatible shape"
      ],
      "metadata": {
        "id": "80kkRESuiffX"
      }
    },
    {
      "cell_type": "code",
      "source": [
        "col = np.array([1.28, -0.42, 0.44, 1.6])\n",
        "print(col.shape)  #the shape of this array is (4,) because it has 4 elements only and it is a 1D array\n",
        "arr[:] = col[:, np.newaxis]  #convert this 1D array into a 2D array with 4 rows and 1 column\n",
        "#col[:]->indicates all elements in the array\n",
        "#np.newaxis->adds a new axis converting the 1D array into column vector\n",
        "arr"
      ],
      "metadata": {
        "colab": {
          "base_uri": "https://localhost:8080/"
        },
        "id": "3CNSce9EeguT",
        "outputId": "9e10f8d0-4536-42f5-eaca-405300dd0a1b"
      },
      "execution_count": null,
      "outputs": [
        {
          "output_type": "stream",
          "name": "stdout",
          "text": [
            "(4,)\n"
          ]
        },
        {
          "output_type": "execute_result",
          "data": {
            "text/plain": [
              "array([[ 1.28,  1.28,  1.28],\n",
              "       [-0.42, -0.42, -0.42],\n",
              "       [ 0.44,  0.44,  0.44],\n",
              "       [ 1.6 ,  1.6 ,  1.6 ]])"
            ]
          },
          "metadata": {},
          "execution_count": 10
        }
      ]
    },
    {
      "cell_type": "markdown",
      "source": [
        "**Ufunctions advanced**"
      ],
      "metadata": {
        "id": "sRMKjZgMs9sc"
      }
    },
    {
      "cell_type": "code",
      "source": [
        "u_arr=np.arange(10)\n",
        "np.add.reduce(u_arr) #which is equal to the function arr.sum()\n"
      ],
      "metadata": {
        "colab": {
          "base_uri": "https://localhost:8080/"
        },
        "id": "yA9cR1cWfJfS",
        "outputId": "e9747114-5d8f-4210-f4a6-11fa26d29238"
      },
      "execution_count": null,
      "outputs": [
        {
          "output_type": "execute_result",
          "data": {
            "text/plain": [
              "45"
            ]
          },
          "metadata": {},
          "execution_count": 11
        }
      ]
    },
    {
      "cell_type": "code",
      "source": [
        "arr = np.random.randn(5, 5)\n",
        "arr[::2].sort(1) #sorts the elements in column wise\n",
        "arr[:, :-1] < arr[:, 1:]\n"
      ],
      "metadata": {
        "colab": {
          "base_uri": "https://localhost:8080/"
        },
        "id": "uXVOA3qNtU7l",
        "outputId": "30a5233d-9eb5-49bb-dd6b-91e1d22c59b7"
      },
      "execution_count": null,
      "outputs": [
        {
          "output_type": "execute_result",
          "data": {
            "text/plain": [
              "array([[ True,  True,  True,  True],\n",
              "       [ True, False, False,  True],\n",
              "       [ True,  True,  True,  True],\n",
              "       [ True,  True, False,  True],\n",
              "       [ True,  True,  True,  True]])"
            ]
          },
          "metadata": {},
          "execution_count": 15
        }
      ]
    },
    {
      "cell_type": "code",
      "source": [
        "#uniary functions\n",
        "np.logical_and.reduce(arr[:, :-1] < arr[:, 1:], axis=1)\n"
      ],
      "metadata": {
        "colab": {
          "base_uri": "https://localhost:8080/"
        },
        "id": "rUikj90wtrPD",
        "outputId": "28a9fbfb-33cb-4fda-b3ae-e546b824d6a6"
      },
      "execution_count": null,
      "outputs": [
        {
          "output_type": "execute_result",
          "data": {
            "text/plain": [
              "array([ True, False,  True, False,  True])"
            ]
          },
          "metadata": {},
          "execution_count": 16
        }
      ]
    },
    {
      "cell_type": "markdown",
      "source": [
        "### **Custom ufunc**\n",
        "\n",
        "*   Can be created by **two ways**\n",
        "*   Using frompyfunc(func,no.of inputs,no.of output the function returns) and numpy.vectorize()\n",
        "\n"
      ],
      "metadata": {
        "id": "7lo_MMTEHYwO"
      }
    },
    {
      "cell_type": "code",
      "source": [
        "import numpy as np\n",
        "def add_elements(x,y):\n",
        "  return x+y\n",
        "add_them=np.frompyfunc(add_elements,2,1) #converts python function to ufunc\n",
        "print(add_them(np.arange(8),np.arange(8)))\n",
        "#output->process [0+0 1+1 2+2 3+3 ......]\n"
      ],
      "metadata": {
        "colab": {
          "base_uri": "https://localhost:8080/"
        },
        "id": "lUNqZVMVwOZp",
        "outputId": "177750f9-117a-4c16-da0a-a119d8ea6950"
      },
      "execution_count": null,
      "outputs": [
        {
          "output_type": "stream",
          "name": "stdout",
          "text": [
            "[0 2 4 6 8 10 12 14]\n"
          ]
        }
      ]
    },
    {
      "cell_type": "code",
      "source": [
        "def circle_area(radius):\n",
        "  return np.pi*radius**2\n",
        "circle_area=np.vectorize(circle_area)\n",
        "radius_values=np.array([1,2,3])\n",
        "areas=circle_area(radius_values)\n",
        "print(areas)\n"
      ],
      "metadata": {
        "colab": {
          "base_uri": "https://localhost:8080/"
        },
        "id": "L6ZiNHCrNTAD",
        "outputId": "2be5dddb-cd0b-4d60-9c5a-bf7f09314c31"
      },
      "execution_count": null,
      "outputs": [
        {
          "output_type": "stream",
          "name": "stdout",
          "text": [
            "[ 3.14159265 12.56637061 28.27433388]\n"
          ]
        }
      ]
    },
    {
      "cell_type": "markdown",
      "source": [
        "### **Sort advance**\n",
        "\n",
        "*   numpy.sort creates **new copy of the array** of an array\n",
        "\n",
        "\n"
      ],
      "metadata": {
        "id": "Rb94UxOxQ1IY"
      }
    },
    {
      "cell_type": "code",
      "source": [
        "sort_arr = np.random.randn(6)\n",
        "sort_arr.sort()\n",
        "print(sort_arr)"
      ],
      "metadata": {
        "colab": {
          "base_uri": "https://localhost:8080/"
        },
        "id": "-TFjwcxCNTfq",
        "outputId": "d2f4f499-f1f7-4b5a-ef60-0662af165bf0"
      },
      "execution_count": null,
      "outputs": [
        {
          "output_type": "stream",
          "name": "stdout",
          "text": [
            "[-2.481224   -1.21378851 -0.82967433 -0.54680494  0.24495197  1.75746393]\n"
          ]
        }
      ]
    },
    {
      "cell_type": "code",
      "source": [
        "two_arr = np.random.randn(3, 5)\n",
        "two_arr"
      ],
      "metadata": {
        "colab": {
          "base_uri": "https://localhost:8080/"
        },
        "id": "y4KM0EdwRAUe",
        "outputId": "7994dffa-48dd-4ab7-e812-aabf8118f33c"
      },
      "execution_count": null,
      "outputs": [
        {
          "output_type": "execute_result",
          "data": {
            "text/plain": [
              "array([[ 0.51102788, -0.93141214, -1.02724575, -0.00349055,  0.48604535],\n",
              "       [-1.01192571,  1.31591553, -0.51927641, -0.58581743, -0.21504692],\n",
              "       [ 0.37388391, -0.14540735, -0.05006114,  0.43607381,  1.93408715]])"
            ]
          },
          "metadata": {},
          "execution_count": 10
        }
      ]
    },
    {
      "cell_type": "code",
      "source": [
        "two_arr[:, 0].sort()\n",
        "two_arr"
      ],
      "metadata": {
        "colab": {
          "base_uri": "https://localhost:8080/"
        },
        "id": "iP5EorSuRXVv",
        "outputId": "c36b2dcc-b7e0-4a85-a58d-71863aa140fc"
      },
      "execution_count": null,
      "outputs": [
        {
          "output_type": "execute_result",
          "data": {
            "text/plain": [
              "array([[-1.01192571, -0.93141214, -1.02724575, -0.00349055,  0.48604535],\n",
              "       [ 0.37388391,  1.31591553, -0.51927641, -0.58581743, -0.21504692],\n",
              "       [ 0.51102788, -0.14540735, -0.05006114,  0.43607381,  1.93408715]])"
            ]
          },
          "metadata": {},
          "execution_count": 13
        }
      ]
    },
    {
      "cell_type": "code",
      "source": [
        "two_arr.sort(axis=1) #sort by column wise\n",
        "two_arr\n",
        "\n",
        "#reverse the array\n",
        "arr[::-1]"
      ],
      "metadata": {
        "colab": {
          "base_uri": "https://localhost:8080/"
        },
        "id": "fbEQ-4mnSHoN",
        "outputId": "3b3e215f-20d4-4711-94bb-4be69637db5e"
      },
      "execution_count": null,
      "outputs": [
        {
          "output_type": "execute_result",
          "data": {
            "text/plain": [
              "array([-0.14754093,  0.96114399, -0.60991454, -1.62178211,  1.69639886])"
            ]
          },
          "metadata": {},
          "execution_count": 20
        }
      ]
    },
    {
      "cell_type": "markdown",
      "source": [
        "### **np.sort()**"
      ],
      "metadata": {
        "id": "3t8QlWiYRzyk"
      }
    },
    {
      "cell_type": "code",
      "source": [
        "arr = np.random.randn(5)\n",
        "arr"
      ],
      "metadata": {
        "colab": {
          "base_uri": "https://localhost:8080/"
        },
        "id": "b-K5162YRcB9",
        "outputId": "5e1769c8-fb4d-4f82-c689-d55ae56a084c"
      },
      "execution_count": null,
      "outputs": [
        {
          "output_type": "execute_result",
          "data": {
            "text/plain": [
              "array([ 1.69639886, -1.62178211, -0.60991454,  0.96114399, -0.14754093])"
            ]
          },
          "metadata": {},
          "execution_count": 14
        }
      ]
    },
    {
      "cell_type": "code",
      "source": [
        "np.sort(arr)"
      ],
      "metadata": {
        "colab": {
          "base_uri": "https://localhost:8080/"
        },
        "id": "SYxBwvEBR9BW",
        "outputId": "c74359f8-de53-4dd5-8cd4-bb6166b76a6c"
      },
      "execution_count": null,
      "outputs": [
        {
          "output_type": "execute_result",
          "data": {
            "text/plain": [
              "array([-1.62178211, -0.60991454, -0.14754093,  0.96114399,  1.69639886])"
            ]
          },
          "metadata": {},
          "execution_count": 15
        }
      ]
    },
    {
      "cell_type": "markdown",
      "source": [
        "### **Indirect Sorts: argsort and lexsort**\n",
        "\n",
        "*   argsort -> sort a **single array** or specific rows or columns of a multi-dimension array\n",
        "*   lexaort -> sort on **multiple array**\n",
        "\n",
        "*   It sorts based on the order of the keys(arrays), where the last key(last given array) in the input is the primary key and earlier keys are used for tie-breaking(i.e when same value found in both arrays it sorts by tie-breaking array i.e the previous array)\n",
        "\n",
        "\n",
        "\n",
        "\n"
      ],
      "metadata": {
        "id": "_lr7jiNIe3US"
      }
    },
    {
      "cell_type": "code",
      "source": [
        "values=np.array([5, 0, 1, 3, 2])\n",
        "indexer=values.argsort() #returns the index of values that to be sorted\n",
        "indexer"
      ],
      "metadata": {
        "colab": {
          "base_uri": "https://localhost:8080/"
        },
        "id": "n83i58qSe4lW",
        "outputId": "bdc6287d-fb72-43c6-c5a1-4c73581e7be7"
      },
      "execution_count": null,
      "outputs": [
        {
          "output_type": "execute_result",
          "data": {
            "text/plain": [
              "array([1, 2, 4, 3, 0])"
            ]
          },
          "metadata": {},
          "execution_count": 20
        }
      ]
    },
    {
      "cell_type": "code",
      "source": [
        "values[indexer] #using the index returned from indexer and using it to sort\n"
      ],
      "metadata": {
        "colab": {
          "base_uri": "https://localhost:8080/"
        },
        "id": "Y1rQ3PIFfLLi",
        "outputId": "16ccfc28-9b67-44ea-f236-dd63293bbd74"
      },
      "execution_count": null,
      "outputs": [
        {
          "output_type": "execute_result",
          "data": {
            "text/plain": [
              "array([0, 1, 2, 3, 5])"
            ]
          },
          "metadata": {},
          "execution_count": 21
        }
      ]
    },
    {
      "cell_type": "code",
      "source": [
        "arr = np.random.randn(3, 5)\n",
        "print(\"Original arrar : \",arr,\"\\n\")\n",
        "arr[0]=values\n",
        "print(\"Sorted array : \",arr)"
      ],
      "metadata": {
        "colab": {
          "base_uri": "https://localhost:8080/"
        },
        "id": "UcbprZtDf92j",
        "outputId": "342f6957-8b24-417b-aacb-2950568a638b"
      },
      "execution_count": null,
      "outputs": [
        {
          "output_type": "stream",
          "name": "stdout",
          "text": [
            "Original arrar :  [[ 0.10127586  0.38309955 -0.13075126  0.93761847  0.13136614]\n",
            " [-1.29978637  0.26096373  0.56402315 -0.47327777  3.2223188 ]\n",
            " [ 0.50305431  0.80563912  0.7260217  -0.01448171 -1.24567663]] \n",
            "\n",
            "Sorted array :  [[ 5.          0.          1.          3.          2.        ]\n",
            " [-1.29978637  0.26096373  0.56402315 -0.47327777  3.2223188 ]\n",
            " [ 0.50305431  0.80563912  0.7260217  -0.01448171 -1.24567663]]\n"
          ]
        }
      ]
    },
    {
      "cell_type": "code",
      "source": [
        "arr[:, arr[0].argsort()]\n"
      ],
      "metadata": {
        "colab": {
          "base_uri": "https://localhost:8080/"
        },
        "id": "X_j3GKvqg7PU",
        "outputId": "60e7829a-e0a5-4247-adf7-62e7fbaafc6d"
      },
      "execution_count": null,
      "outputs": [
        {
          "output_type": "execute_result",
          "data": {
            "text/plain": [
              "array([[ 0.        ,  1.        ,  2.        ,  3.        ,  5.        ],\n",
              "       [ 0.26096373,  0.56402315,  3.2223188 , -0.47327777, -1.29978637],\n",
              "       [ 0.80563912,  0.7260217 , -1.24567663, -0.01448171,  0.50305431]])"
            ]
          },
          "metadata": {},
          "execution_count": 28
        }
      ]
    },
    {
      "cell_type": "code",
      "source": [
        "first_name = np.array(['Bob', 'Jane', 'Steve', 'Bill', 'Barbara'])\n",
        "last_name = np.array(['Jones', 'Arnold', 'Arnold', 'Jones', 'Walters'])\n",
        "sorter=np.lexsort((first_name,last_name))\n",
        "#First -> sorts by last_name (bcz it is the last passed array) then returns the index\n",
        "#if same values in both arrays then it sorts by first_name\n",
        "sorted_name=list(zip(last_name[sorter],first_name[sorter]))\n",
        "sorted_name\n",
        "#the zip function always returns iterator like this '<zip at 0x7d80ed42ea00>'\n",
        "#to get values you should convert it into list or another collection type\n",
        "#it displays combination of first and last name"
      ],
      "metadata": {
        "colab": {
          "base_uri": "https://localhost:8080/"
        },
        "id": "pTgjkgkNilZv",
        "outputId": "f8236682-f260-4bfd-dc20-6132de8fb3c1"
      },
      "execution_count": null,
      "outputs": [
        {
          "output_type": "execute_result",
          "data": {
            "text/plain": [
              "[('Arnold', 'Jane'),\n",
              " ('Arnold', 'Steve'),\n",
              " ('Jones', 'Bill'),\n",
              " ('Jones', 'Bob'),\n",
              " ('Walters', 'Barbara')]"
            ]
          },
          "metadata": {},
          "execution_count": 35
        }
      ]
    },
    {
      "cell_type": "code",
      "source": [],
      "metadata": {
        "colab": {
          "base_uri": "https://localhost:8080/"
        },
        "id": "pdP00Mz_jVFV",
        "outputId": "9a1b6318-674b-4b1b-9013-7e8058f39a3e"
      },
      "execution_count": null,
      "outputs": [
        {
          "output_type": "stream",
          "name": "stdout",
          "text": [
            "<zip object at 0x7d80d6949300>\n"
          ]
        }
      ]
    },
    {
      "cell_type": "markdown",
      "source": [
        "### **Structured Array**\n",
        "\n",
        "*   In numpy \"array\" is homogeneous(handles same data type well).\n",
        "*   It also handles heterogeneous data but not efficient that much based on below example the int type is type casted into string it is not useful for complex(consists of different data types) data because you will loss the data.\n",
        "\n",
        "To overcome this we use **Structured Arrays(fieldname, datatype, shape[optional])**\n",
        "\n",
        "*   This allows you to store the data in its original format rather than type casting.\n",
        "*   Useful in spreadsheet or database.\n",
        "*   The each field can be accessed by their name how we access column tables.\n",
        "\n",
        "\n",
        "\n"
      ],
      "metadata": {
        "id": "_w-8mrqpGsYv"
      }
    },
    {
      "cell_type": "code",
      "source": [
        "import numpy as np\n",
        "a=np.array(['Riya',2])\n",
        "a\n",
        "#here 2->is type casted into string"
      ],
      "metadata": {
        "colab": {
          "base_uri": "https://localhost:8080/"
        },
        "id": "WoTh9lmAR_ZX",
        "outputId": "ed669f9c-8bc1-44ab-b5eb-483563eecb1e"
      },
      "execution_count": null,
      "outputs": [
        {
          "output_type": "execute_result",
          "data": {
            "text/plain": [
              "array(['Riya', '2'], dtype='<U21')"
            ]
          },
          "metadata": {},
          "execution_count": 1
        }
      ]
    },
    {
      "cell_type": "markdown",
      "source": [
        "### **Method 1 structured arrays**"
      ],
      "metadata": {
        "id": "KuYUq14ueHl5"
      }
    },
    {
      "cell_type": "code",
      "source": [
        "dtype = [('x', np.float64), ('y', np.int32)] #defines structural data type for array with two fields\n",
        "\n",
        "sarr = np.array([(1.5, 6), (np.pi, -2)], dtype=dtype)\n",
        "#creates a structured Numpy array with list of tuples, 1.5 -> x value ,6 ->y values\n",
        "sarr\n",
        "\n",
        "#if fieldname is empty string ' ' the field will be given a default name\n",
        "#of the form f#, where # is the integer index of the field\n",
        "#dtype=[('x', 'f4'), ('', 'i4'), ('z', 'i8')]\n"
      ],
      "metadata": {
        "id": "RMdruaUwSAfB",
        "colab": {
          "base_uri": "https://localhost:8080/"
        },
        "outputId": "bfbfb041-0675-4fab-f433-fbd76ddce812"
      },
      "execution_count": null,
      "outputs": [
        {
          "output_type": "execute_result",
          "data": {
            "text/plain": [
              "array([(1.5       ,  6), (3.14159265, -2)],\n",
              "      dtype=[('x', '<f8'), ('y', '<i4')])"
            ]
          },
          "metadata": {},
          "execution_count": 18
        }
      ]
    },
    {
      "cell_type": "code",
      "source": [
        "sarr[0][1]"
      ],
      "metadata": {
        "colab": {
          "base_uri": "https://localhost:8080/"
        },
        "id": "1KFSbMBmP4mO",
        "outputId": "dbdff007-03dc-4ead-bb21-b751a41436c5"
      },
      "execution_count": null,
      "outputs": [
        {
          "output_type": "execute_result",
          "data": {
            "text/plain": [
              "6"
            ]
          },
          "metadata": {},
          "execution_count": 4
        }
      ]
    },
    {
      "cell_type": "code",
      "source": [
        "np.max(sarr['x'])"
      ],
      "metadata": {
        "colab": {
          "base_uri": "https://localhost:8080/"
        },
        "id": "S1JErRZiVY5H",
        "outputId": "0f5d83a5-8746-42bf-f9f5-77c59d596565"
      },
      "execution_count": null,
      "outputs": [
        {
          "output_type": "execute_result",
          "data": {
            "text/plain": [
              "3.141592653589793"
            ]
          },
          "metadata": {},
          "execution_count": 7
        }
      ]
    },
    {
      "cell_type": "markdown",
      "source": [
        "### **Method 2 structure array**"
      ],
      "metadata": {
        "id": "ODnrUZeeeAjX"
      }
    },
    {
      "cell_type": "code",
      "source": [
        "np.dtype({'names': ['col1', 'col2'], 'formats': ['i4', 'f4']})\n"
      ],
      "metadata": {
        "colab": {
          "base_uri": "https://localhost:8080/"
        },
        "id": "vOqIqmKLdimq",
        "outputId": "907cbd61-872d-4dd6-f64a-78fb4969dd5a"
      },
      "execution_count": null,
      "outputs": [
        {
          "output_type": "execute_result",
          "data": {
            "text/plain": [
              "dtype([('col1', '<i4'), ('col2', '<f4')])"
            ]
          },
          "metadata": {},
          "execution_count": 19
        }
      ]
    },
    {
      "cell_type": "markdown",
      "source": [
        "## **Multi-dimensional structure array**"
      ],
      "metadata": {
        "id": "nfjxGsnJYhHj"
      }
    },
    {
      "cell_type": "code",
      "source": [
        "dtype=[('x',np.int64,3),('y',np.int32)]\n",
        "#Field name ->x , data type -> int , shape -> 3 (which holds 3 elements in the list)\n",
        "#('y',np.int32) -> it does not consists of shape it only has one value\n",
        "\n",
        "arr=np.zeros(4,dtype=dtype)\n",
        "arr"
      ],
      "metadata": {
        "colab": {
          "base_uri": "https://localhost:8080/"
        },
        "id": "21zyb55XV8z6",
        "outputId": "2ab133a0-6cd7-47d9-b101-395c903b0bcc"
      },
      "execution_count": null,
      "outputs": [
        {
          "output_type": "execute_result",
          "data": {
            "text/plain": [
              "array([([0, 0, 0], 0), ([0, 0, 0], 0), ([0, 0, 0], 0), ([0, 0, 0], 0)],\n",
              "      dtype=[('x', '<i8', (3,)), ('y', '<i4')])"
            ]
          },
          "metadata": {},
          "execution_count": 8
        }
      ]
    },
    {
      "cell_type": "code",
      "source": [
        "arr[0]['x']"
      ],
      "metadata": {
        "colab": {
          "base_uri": "https://localhost:8080/"
        },
        "id": "DLvFQXCuZkjz",
        "outputId": "ca2f6fa4-39c6-45f7-8863-402aa89f04a6"
      },
      "execution_count": null,
      "outputs": [
        {
          "output_type": "execute_result",
          "data": {
            "text/plain": [
              "array([0, 0, 0])"
            ]
          },
          "metadata": {},
          "execution_count": 10
        }
      ]
    },
    {
      "cell_type": "markdown",
      "source": [
        "### **Nested dtypes**"
      ],
      "metadata": {
        "id": "v07O5cjEaHq9"
      }
    },
    {
      "cell_type": "code",
      "source": [
        "dtype=[('x',[('a','f8'),('b','f4')]),('y',np.int32)]\n",
        "data=np.array([((1,2),5),((4,6),20)],dtype=dtype)\n",
        "data['x']"
      ],
      "metadata": {
        "colab": {
          "base_uri": "https://localhost:8080/"
        },
        "id": "FytGte_6Z3QL",
        "outputId": "3a950590-6eb0-4174-d895-bb9bb45e3e36"
      },
      "execution_count": null,
      "outputs": [
        {
          "output_type": "execute_result",
          "data": {
            "text/plain": [
              "array([(1., 2.), (4., 6.)], dtype=[('a', '<f8'), ('b', '<f4')])"
            ]
          },
          "metadata": {},
          "execution_count": 12
        }
      ]
    },
    {
      "cell_type": "code",
      "source": [
        "data['y']"
      ],
      "metadata": {
        "colab": {
          "base_uri": "https://localhost:8080/"
        },
        "id": "IumQi3wma7m5",
        "outputId": "fc1c7f05-d546-47bd-aac4-ecf2b5f119d8"
      },
      "execution_count": null,
      "outputs": [
        {
          "output_type": "execute_result",
          "data": {
            "text/plain": [
              "array([ 5, 20], dtype=int32)"
            ]
          },
          "metadata": {},
          "execution_count": 13
        }
      ]
    },
    {
      "cell_type": "code",
      "source": [
        "data['x']['a']"
      ],
      "metadata": {
        "colab": {
          "base_uri": "https://localhost:8080/"
        },
        "id": "pflSGw4ca_Ys",
        "outputId": "b2d2b598-5afd-46b1-d27c-dedc8c24413d"
      },
      "execution_count": null,
      "outputs": [
        {
          "output_type": "execute_result",
          "data": {
            "text/plain": [
              "array([1., 4.])"
            ]
          },
          "metadata": {},
          "execution_count": 14
        }
      ]
    },
    {
      "cell_type": "markdown",
      "source": [
        "### **numpy.searchsorted**\n",
        "\n",
        "*   Performs binary search on a sorted array\n",
        "*   returning the location in the array where the value would need to be inserted\n",
        "\n"
      ],
      "metadata": {
        "id": "N8MWtlcSdtwo"
      }
    },
    {
      "cell_type": "code",
      "source": [
        "import numpy as np\n",
        "arr=np.array([0, 1, 7, 12, 15])\n",
        "arr.searchsorted(9) #returns the index in which the new value has to inserted"
      ],
      "metadata": {
        "id": "iiMd1bKgbE3Q",
        "colab": {
          "base_uri": "https://localhost:8080/"
        },
        "outputId": "38ba85b5-8a99-4b7f-fac9-9a50cc4a7362"
      },
      "execution_count": 1,
      "outputs": [
        {
          "output_type": "execute_result",
          "data": {
            "text/plain": [
              "3"
            ]
          },
          "metadata": {},
          "execution_count": 1
        }
      ]
    },
    {
      "cell_type": "code",
      "source": [
        "arr.searchsorted([0, 8, 11, 16])"
      ],
      "metadata": {
        "colab": {
          "base_uri": "https://localhost:8080/"
        },
        "id": "RIrtKfBBeWKa",
        "outputId": "07d26dca-e56d-4d24-8744-c19668212c93"
      },
      "execution_count": 2,
      "outputs": [
        {
          "output_type": "execute_result",
          "data": {
            "text/plain": [
              "array([0, 3, 3, 5])"
            ]
          },
          "metadata": {},
          "execution_count": 2
        }
      ]
    },
    {
      "cell_type": "code",
      "source": [],
      "metadata": {
        "id": "l3yxQkDheh25"
      },
      "execution_count": null,
      "outputs": []
    }
  ]
}