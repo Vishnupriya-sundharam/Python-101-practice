{
  "nbformat": 4,
  "nbformat_minor": 0,
  "metadata": {
    "colab": {
      "provenance": []
    },
    "kernelspec": {
      "name": "python3",
      "display_name": "Python 3"
    },
    "language_info": {
      "name": "python"
    }
  },
  "cells": [
    {
      "cell_type": "code",
      "execution_count": null,
      "metadata": {
        "colab": {
          "base_uri": "https://localhost:8080/"
        },
        "id": "r5u2QJsZRg4O",
        "outputId": "02b303e6-26ee-4659-8e06-68c6a961b94f"
      },
      "outputs": [
        {
          "output_type": "stream",
          "name": "stdout",
          "text": [
            "/content\n"
          ]
        }
      ],
      "source": [
        "import os\n",
        "current_directory=os.getcwd()  #shows the current working directory\n",
        "print(current_directory)"
      ]
    },
    {
      "cell_type": "code",
      "source": [
        "os.listdir() #lists all files and directories in current working directory"
      ],
      "metadata": {
        "colab": {
          "base_uri": "https://localhost:8080/"
        },
        "id": "T74Npx-uRw96",
        "outputId": "af6d8345-d377-43b5-e4d5-2fc94f8f9308"
      },
      "execution_count": null,
      "outputs": [
        {
          "output_type": "execute_result",
          "data": {
            "text/plain": [
              "['.config', 'train.csv', 'sample_data']"
            ]
          },
          "metadata": {},
          "execution_count": 4
        }
      ]
    },
    {
      "cell_type": "code",
      "source": [
        "if os.path.isdir(current_directory):\n",
        "    print(f\"'{current_directory}' is a directory.\")\n",
        "else:\n",
        "    print(f\"'{current_directory}' is not a directory.\")"
      ],
      "metadata": {
        "colab": {
          "base_uri": "https://localhost:8080/"
        },
        "id": "tzbI8rkBSHKx",
        "outputId": "a0d50a76-d18f-444d-ba54-0f95f1f255c3"
      },
      "execution_count": null,
      "outputs": [
        {
          "output_type": "stream",
          "name": "stdout",
          "text": [
            "'/content' is a directory.\n"
          ]
        }
      ]
    },
    {
      "cell_type": "code",
      "source": [
        "print(\"is dir? \" + str(os.path.isdir(current_directory)))"
      ],
      "metadata": {
        "colab": {
          "base_uri": "https://localhost:8080/"
        },
        "id": "niANu5bwULzZ",
        "outputId": "8f4515b8-c33d-4328-cec2-f9a0a0e2118c"
      },
      "execution_count": null,
      "outputs": [
        {
          "output_type": "stream",
          "name": "stdout",
          "text": [
            "is dir? True\n"
          ]
        }
      ]
    },
    {
      "cell_type": "code",
      "source": [
        "file_name=\"train.csv\"\n",
        "print(\"is file? \" + str(os.path.isfile(file_name)))"
      ],
      "metadata": {
        "colab": {
          "base_uri": "https://localhost:8080/"
        },
        "id": "lhXKl-rZY8lw",
        "outputId": "457e634a-88d9-4401-9027-a34536bc9fb2"
      },
      "execution_count": null,
      "outputs": [
        {
          "output_type": "stream",
          "name": "stdout",
          "text": [
            "is file? True\n"
          ]
        }
      ]
    },
    {
      "cell_type": "code",
      "source": [
        "print(\"does it exist? \" + str(os.path.exists(current_directory)))\n",
        "#checks whether the directory exists or not\n",
        "#and checks the file exists in the path if it exists then it returns the file size\n",
        "if os.path.isfile(file_name):\n",
        "    # Returns the size of a file without opening it.\n",
        "    print(\"file size: \" + str(os.path.getsize(file_name)))\n",
        "else:\n",
        "    print(\"not a file to calculate size\")"
      ],
      "metadata": {
        "colab": {
          "base_uri": "https://localhost:8080/"
        },
        "id": "rOFCuJxNZK48",
        "outputId": "9b478e7f-8b4a-4cb1-f2f3-81d331fb32aa"
      },
      "execution_count": null,
      "outputs": [
        {
          "output_type": "stream",
          "name": "stdout",
          "text": [
            "does it exist? True\n",
            "file size: 460676\n"
          ]
        }
      ]
    },
    {
      "cell_type": "code",
      "source": [
        "#mounting with the drive to access the files\n",
        "path_file=\"/content/drive/MyDrive/Vishnupriya-S.pdf\"\n",
        "print(path_file)"
      ],
      "metadata": {
        "colab": {
          "base_uri": "https://localhost:8080/"
        },
        "id": "40eVoPeFbYER",
        "outputId": "a3e3b0da-c7ca-4457-ace9-3abffbb13f3b"
      },
      "execution_count": null,
      "outputs": [
        {
          "output_type": "stream",
          "name": "stdout",
          "text": [
            "/content/drive/MyDrive/Vishnupriya-S.pdf\n"
          ]
        }
      ]
    },
    {
      "cell_type": "code",
      "source": [
        "print(os.path.basename(path_file)) #it gives the basename"
      ],
      "metadata": {
        "colab": {
          "base_uri": "https://localhost:8080/"
        },
        "id": "f9vC2qBDdjSW",
        "outputId": "44f80292-14df-438c-c6a6-3b79ed86a9b0"
      },
      "execution_count": null,
      "outputs": [
        {
          "output_type": "stream",
          "name": "stdout",
          "text": [
            "Vishnupriya-S.pdf\n"
          ]
        }
      ]
    },
    {
      "cell_type": "code",
      "source": [
        "print(os.path.dirname(path_file)) #returns directory name\n"
      ],
      "metadata": {
        "colab": {
          "base_uri": "https://localhost:8080/"
        },
        "id": "YyKOLH_Xdu3u",
        "outputId": "6c6a815c-931b-4832-98a1-08aa51211ee5"
      },
      "execution_count": null,
      "outputs": [
        {
          "output_type": "stream",
          "name": "stdout",
          "text": [
            "/content/drive/MyDrive\n"
          ]
        }
      ]
    },
    {
      "cell_type": "code",
      "source": [
        "print(os.path.abspath(path_file)) #returns the absolute path"
      ],
      "metadata": {
        "colab": {
          "base_uri": "https://localhost:8080/"
        },
        "id": "ANjHx11cdwu0",
        "outputId": "8607bdd3-d754-4ac6-b8d5-fb453094adc0"
      },
      "execution_count": null,
      "outputs": [
        {
          "output_type": "stream",
          "name": "stdout",
          "text": [
            "/content/drive/MyDrive/Vishnupriya-S.pdf\n"
          ]
        }
      ]
    },
    {
      "cell_type": "markdown",
      "source": [
        "### **Dictionary to JSON**"
      ],
      "metadata": {
        "id": "_luwHbBpkFqM"
      }
    },
    {
      "cell_type": "code",
      "source": [
        "import json\n",
        "dict_pets={1: 'dog', 2: 'cat',3: 'horse', 4: 'elephant',5: 'tiger'}\n",
        "print(type(dict_pets))"
      ],
      "metadata": {
        "colab": {
          "base_uri": "https://localhost:8080/"
        },
        "id": "3ZZEUEybdy6Z",
        "outputId": "781daf07-8108-4674-f596-59b1957b428e"
      },
      "execution_count": null,
      "outputs": [
        {
          "output_type": "stream",
          "name": "stdout",
          "text": [
            "<class 'dict'>\n"
          ]
        }
      ]
    },
    {
      "cell_type": "code",
      "source": [
        "js_data=json.dumps(dict_pets) #saves as JSON objects\n",
        "print(type(dict_pets))"
      ],
      "metadata": {
        "colab": {
          "base_uri": "https://localhost:8080/"
        },
        "id": "rBncSpZsiJY1",
        "outputId": "0cbe69eb-3b3c-4c07-fd6a-13ebef53b298"
      },
      "execution_count": null,
      "outputs": [
        {
          "output_type": "stream",
          "name": "stdout",
          "text": [
            "<class 'dict'>\n"
          ]
        }
      ]
    },
    {
      "cell_type": "code",
      "source": [
        "print(dict_pets)"
      ],
      "metadata": {
        "colab": {
          "base_uri": "https://localhost:8080/"
        },
        "id": "JgDKs_FIk7q_",
        "outputId": "1e693761-f473-4923-a83b-0936b90f300b"
      },
      "execution_count": null,
      "outputs": [
        {
          "output_type": "stream",
          "name": "stdout",
          "text": [
            "{1: 'dog', 2: 'cat', 3: 'horse', 4: 'elephant', 5: 'tiger'}\n"
          ]
        }
      ]
    },
    {
      "cell_type": "code",
      "source": [
        "print(js_data)"
      ],
      "metadata": {
        "colab": {
          "base_uri": "https://localhost:8080/"
        },
        "id": "gPlJyJ_0lSgI",
        "outputId": "ab733de7-da02-4999-9f98-3b5821b6e477"
      },
      "execution_count": null,
      "outputs": [
        {
          "output_type": "stream",
          "name": "stdout",
          "text": [
            "{\"1\": \"dog\", \"2\": \"cat\", \"3\": \"horse\", \"4\": \"elephant\", \"5\": \"tiger\"}\n"
          ]
        }
      ]
    },
    {
      "cell_type": "code",
      "source": [
        "import json\n",
        "\n",
        "dict_data = {\n",
        "    \"name\": \"John Doe\",\n",
        "    \"age\": 30,\n",
        "    \"city\": \"New York\",\n",
        "    \"hobbies\": [\"reading\", \"hiking\", \"programming\"],\n",
        "    \"is_student\": False\n",
        "}\n",
        "with open('data.json', 'w') as outfile: #if data.json file is not present than it will create it\n",
        "\n",
        "  json.dump(dict_data, outfile)  #covert the dict_data into json and writes it to the outfile object"
      ],
      "metadata": {
        "id": "bNKzQ0CwlU9a"
      },
      "execution_count": null,
      "outputs": []
    },
    {
      "cell_type": "markdown",
      "source": [
        "### **Read the json file**"
      ],
      "metadata": {
        "id": "lKbW6BxPp9kF"
      }
    },
    {
      "cell_type": "code",
      "source": [
        "import os\n",
        "import json\n",
        "path_in_pet=\"data.json\"\n",
        "if os.path.exists(path_in_pet):\n",
        "  with open(path_in_pet,'r') as f:\n",
        "    dict_data=json.load(f) #read the data\n",
        "    print(type(dict_data))\n",
        "    print(dict_data)"
      ],
      "metadata": {
        "colab": {
          "base_uri": "https://localhost:8080/"
        },
        "id": "Y_CPBImPnRKH",
        "outputId": "dd521dc2-c26c-487c-aa6f-9a9199210c10"
      },
      "execution_count": null,
      "outputs": [
        {
          "output_type": "stream",
          "name": "stdout",
          "text": [
            "<class 'dict'>\n",
            "{'name': 'John Doe', 'age': 30, 'city': 'New York', 'hobbies': ['reading', 'hiking', 'programming'], 'is_student': False}\n"
          ]
        }
      ]
    },
    {
      "cell_type": "markdown",
      "source": [
        "**Convert a variable to string/float/integer**"
      ],
      "metadata": {
        "id": "iGGjov3fqKcB"
      }
    },
    {
      "cell_type": "code",
      "source": [
        "age = 20\n",
        "print(\"age is \" + str(age))"
      ],
      "metadata": {
        "colab": {
          "base_uri": "https://localhost:8080/"
        },
        "id": "dduuSdIdnXME",
        "outputId": "e7fb284f-a1a9-4f97-990d-e16a849e32af"
      },
      "execution_count": null,
      "outputs": [
        {
          "output_type": "stream",
          "name": "stdout",
          "text": [
            "age is 20\n"
          ]
        }
      ]
    },
    {
      "cell_type": "code",
      "source": [
        "salary = 10\n",
        "f_salary = float(salary)\n",
        "print(f_salary)"
      ],
      "metadata": {
        "colab": {
          "base_uri": "https://localhost:8080/"
        },
        "id": "YsHqBgk0qRht",
        "outputId": "f168a4af-09f6-4184-81dd-76fe12258a02"
      },
      "execution_count": null,
      "outputs": [
        {
          "output_type": "stream",
          "name": "stdout",
          "text": [
            "10.0\n"
          ]
        }
      ]
    },
    {
      "cell_type": "code",
      "source": [
        "salary = 10.11\n",
        "# convert to integer\n",
        "i_salary = int(salary)\n",
        "print(i_salary)"
      ],
      "metadata": {
        "colab": {
          "base_uri": "https://localhost:8080/"
        },
        "id": "DD1wTvlkqfVk",
        "outputId": "40650546-af45-4e12-b8ad-e79ac55601ee"
      },
      "execution_count": null,
      "outputs": [
        {
          "output_type": "stream",
          "name": "stdout",
          "text": [
            "10\n"
          ]
        }
      ]
    },
    {
      "cell_type": "markdown",
      "source": [
        "**Conversion of string to date time**"
      ],
      "metadata": {
        "id": "pRoiDZqPq2pg"
      }
    },
    {
      "cell_type": "code",
      "source": [
        "from dateutil import parser\n",
        "from datetime import datetime\n",
        "dt=parser.parse(\"Dec 06 2002 9:20AM\") #used to convert string data and time into datatime object\n",
        "print(dt) #parse method is more flexible than strptime because parse can handle different input formats"
      ],
      "metadata": {
        "colab": {
          "base_uri": "https://localhost:8080/"
        },
        "id": "0-9lZaNvqn6W",
        "outputId": "fcdca384-bb4f-4ad0-dd64-ffca75e25444"
      },
      "execution_count": null,
      "outputs": [
        {
          "output_type": "stream",
          "name": "stdout",
          "text": [
            "2002-12-06 09:20:00\n"
          ]
        }
      ]
    },
    {
      "cell_type": "code",
      "source": [
        "datetime_object = datetime.strptime('Jun 1 2021 1:11PM', '%b %d %Y %I:%M%p')\n",
        "print(datetime_object)"
      ],
      "metadata": {
        "colab": {
          "base_uri": "https://localhost:8080/"
        },
        "id": "6GUk8E-RrZ7-",
        "outputId": "d725e2c0-cbcb-4177-ea9e-7150bf8b0dd5"
      },
      "execution_count": null,
      "outputs": [
        {
          "output_type": "stream",
          "name": "stdout",
          "text": [
            "2021-06-01 13:11:00\n"
          ]
        }
      ]
    },
    {
      "cell_type": "markdown",
      "source": [
        "**Formatting float digits**"
      ],
      "metadata": {
        "id": "8lJs2MmnssEu"
      }
    },
    {
      "cell_type": "code",
      "source": [
        "amount=29.072382\n",
        "f_amount=float(\"{:.2f}\".format(amount))\n",
        "print(f_amount)"
      ],
      "metadata": {
        "colab": {
          "base_uri": "https://localhost:8080/"
        },
        "id": "sieWzB1wrgX2",
        "outputId": "4266cc25-89ce-425b-dd81-18e35d58515b"
      },
      "execution_count": null,
      "outputs": [
        {
          "output_type": "stream",
          "name": "stdout",
          "text": [
            "29.07\n"
          ]
        }
      ]
    },
    {
      "cell_type": "code",
      "source": [
        "#approach 2\n",
        "amount=19.2328\n",
        "f_amount=round(amount,2)\n",
        "print(f_amount)"
      ],
      "metadata": {
        "colab": {
          "base_uri": "https://localhost:8080/"
        },
        "id": "A5Ac6ECQtAgz",
        "outputId": "cba629aa-3cec-4015-a900-3b3febd1feb8"
      },
      "execution_count": null,
      "outputs": [
        {
          "output_type": "stream",
          "name": "stdout",
          "text": [
            "19.23\n"
          ]
        }
      ]
    },
    {
      "cell_type": "markdown",
      "source": [
        "**Format date time**"
      ],
      "metadata": {
        "id": "E8_ujluDuK1M"
      }
    },
    {
      "cell_type": "code",
      "source": [
        "from datetime import datetime\n",
        "now=datetime.now()\n",
        "print(now)\n",
        "_parse=datetime.strptime(str(now),\"%Y-%m-%d %H:%M:%S.%f\")\n",
        "print(_parse)\n",
        "dt=datetime.strptime(\"21/11/06 16:30\", \"%d/%m/%y %H:%M\")\n",
        "print(dt)"
      ],
      "metadata": {
        "colab": {
          "base_uri": "https://localhost:8080/"
        },
        "id": "YOB7IqsytoiX",
        "outputId": "d6b74a1f-bb33-407e-f131-afa910335b91"
      },
      "execution_count": null,
      "outputs": [
        {
          "output_type": "stream",
          "name": "stdout",
          "text": [
            "2024-09-22 07:59:30.142204\n",
            "2024-09-22 07:59:30.142204\n",
            "2006-11-21 16:30:00\n"
          ]
        }
      ]
    },
    {
      "cell_type": "code",
      "source": [
        "#gets the year of the date and time\n",
        "year=dt.year\n",
        "print(year)"
      ],
      "metadata": {
        "colab": {
          "base_uri": "https://localhost:8080/"
        },
        "id": "7ZyYdQD1t7WB",
        "outputId": "76a07d47-e985-4313-8d8a-5743bf831ddd"
      },
      "execution_count": null,
      "outputs": [
        {
          "output_type": "stream",
          "name": "stdout",
          "text": [
            "2006\n"
          ]
        }
      ]
    },
    {
      "cell_type": "code",
      "source": [
        "#gets the month of the date and time\n",
        "month=dt.month\n",
        "print(month)"
      ],
      "metadata": {
        "colab": {
          "base_uri": "https://localhost:8080/"
        },
        "id": "SIL8_I1kvrLn",
        "outputId": "76ec70c1-9359-4526-9697-fcd708378fb5"
      },
      "execution_count": null,
      "outputs": [
        {
          "output_type": "stream",
          "name": "stdout",
          "text": [
            "11\n"
          ]
        }
      ]
    },
    {
      "cell_type": "markdown",
      "source": [
        "### **Data cleaning**"
      ],
      "metadata": {
        "id": "ZGOeX3IVv_Nl"
      }
    },
    {
      "cell_type": "code",
      "source": [
        "def to_lowercase(in_str):\n",
        "  return str(in_str).lower()\n",
        "text=\"How are you ?\"\n",
        "to_lowercase(text)"
      ],
      "metadata": {
        "colab": {
          "base_uri": "https://localhost:8080/",
          "height": 35
        },
        "id": "bRZX6ukwvu0C",
        "outputId": "a737f416-e6c5-412f-a5b3-7e9e1a9e4eab"
      },
      "execution_count": null,
      "outputs": [
        {
          "output_type": "execute_result",
          "data": {
            "text/plain": [
              "'how are you ?'"
            ],
            "application/vnd.google.colaboratory.intrinsic+json": {
              "type": "string"
            }
          },
          "metadata": {},
          "execution_count": 57
        }
      ]
    },
    {
      "cell_type": "markdown",
      "source": [
        "**Clean extra spaces**"
      ],
      "metadata": {
        "id": "VRT0bI7Hw4vA"
      }
    },
    {
      "cell_type": "code",
      "source": [
        "text=\"This is first line \\n This is second line\"\n",
        "print(text)\n",
        "text_clean=text.replace(\"\\n\",\"\")\n",
        "print(text_clean)"
      ],
      "metadata": {
        "colab": {
          "base_uri": "https://localhost:8080/"
        },
        "id": "co9uo3n8vyms",
        "outputId": "96053973-ca9a-4739-9969-261f591fc7d8"
      },
      "execution_count": null,
      "outputs": [
        {
          "output_type": "stream",
          "name": "stdout",
          "text": [
            "This is first line \n",
            " This is second line\n",
            "This is first line  This is second line\n"
          ]
        }
      ]
    },
    {
      "cell_type": "markdown",
      "source": [
        "# **Remove non-alpha numeric characters (Regex):**"
      ],
      "metadata": {
        "id": "7gjBLACyxM9f"
      }
    },
    {
      "cell_type": "code",
      "source": [
        "import re\n",
        "in_str=\"Hi, Where are you from? Woww!!\"\n",
        "print(in_str)\n",
        "#r'\\W'->matches any non-word characters\n",
        "#' '->replaces the special character with single space\n",
        "str_clean=re.sub(r'\\W+',' ',in_str)\n",
        "print(str_clean)"
      ],
      "metadata": {
        "colab": {
          "base_uri": "https://localhost:8080/"
        },
        "id": "zaYuXYKTwsmT",
        "outputId": "760d9d96-e6ac-45ae-f4ba-c63cb930e70d"
      },
      "execution_count": null,
      "outputs": [
        {
          "output_type": "stream",
          "name": "stdout",
          "text": [
            "Hi, Where are you from? Woww!!\n",
            "Hi Where are you from Woww \n"
          ]
        }
      ]
    },
    {
      "cell_type": "code",
      "source": [
        "dict_norm = {\"puppyhood\": \"dog\",\"puppyish\": \"dog\",\"puppylike\": \"dog\"}\n",
        "dict_species = {\"caesar\": \"puppyhood\", \"ryan\": \"dog\", \"leela\": \"cat\"}\n",
        "print(dict_norm)\n",
        "print(dict_species)\n",
        "dict_species_norm = {}\n",
        "for key, value in dict_species.items():\n",
        "  if value in dict_norm.keys():\n",
        "    dict_species_norm[key] = dict_norm[value]\n",
        "  else:\n",
        "    dict_species_norm[key] = value\n",
        "# prints -> {\"caesar\": \"dog\", \"ryan\": \"dog\", \"leela\": \"cat\"}\n",
        "print(dict_species_norm)"
      ],
      "metadata": {
        "colab": {
          "base_uri": "https://localhost:8080/"
        },
        "id": "kiR4EicNxav8",
        "outputId": "6f6d2a2f-9695-4785-e89a-d5ad92982a64"
      },
      "execution_count": null,
      "outputs": [
        {
          "output_type": "stream",
          "name": "stdout",
          "text": [
            "{'puppyhood': 'dog', 'puppyish': 'dog', 'puppylike': 'dog'}\n",
            "{'caesar': 'puppyhood', 'ryan': 'dog', 'leela': 'cat'}\n",
            "{'caesar': 'dog', 'ryan': 'dog', 'leela': 'cat'}\n"
          ]
        }
      ]
    },
    {
      "cell_type": "code",
      "source": [],
      "metadata": {
        "id": "H2gT6vz0zA94"
      },
      "execution_count": null,
      "outputs": []
    }
  ]
}