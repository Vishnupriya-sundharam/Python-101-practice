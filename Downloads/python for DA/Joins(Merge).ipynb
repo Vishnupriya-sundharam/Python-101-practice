{
  "nbformat": 4,
  "nbformat_minor": 0,
  "metadata": {
    "colab": {
      "provenance": []
    },
    "kernelspec": {
      "name": "python3",
      "display_name": "Python 3"
    },
    "language_info": {
      "name": "python"
    }
  },
  "cells": [
    {
      "cell_type": "code",
      "execution_count": 2,
      "metadata": {
        "colab": {
          "base_uri": "https://localhost:8080/"
        },
        "id": "KQC9tJ_zfZZ9",
        "outputId": "928a8dad-feac-4ff2-ecff-64418a7fcedd"
      },
      "outputs": [
        {
          "output_type": "stream",
          "name": "stdout",
          "text": [
            "    id     Name\n",
            "0  A01      Dog\n",
            "1  A02      Cat\n",
            "2  A03    Eagle\n",
            "3  A04  Peacock\n",
            "    id       City Age\n",
            "0  A01        SFO  12\n",
            "1  A06    Chennai  13\n",
            "2  A02        NYC  14\n",
            "3  A07  Bangalore  12\n"
          ]
        }
      ],
      "source": [
        "import pandas as pd\n",
        "from tabulate import tabulate\n",
        "df_1 = pd.DataFrame({'id': ['A01', 'A02', 'A03', 'A04'],'Name': ['Dog', 'Cat', 'Eagle', 'Peacock']})\n",
        "print(df_1)\n",
        "df_2 = pd.DataFrame({'id' : ['A01', 'A06', 'A02', 'A07'],'City': ['SFO', 'Chennai', 'NYC', 'Bangalore'],'Age': ['12', '13', '14', '12']})\n",
        "print(df_2)"
      ]
    },
    {
      "cell_type": "code",
      "source": [
        "def pretty_print(title,df,n):\n",
        "  print(f\"\\n{title}\")\n",
        "  print(tabulate(df.head(n),headers=\"keys\",tablefmt=\"psql\"))\n",
        "pretty_print(\"df1\",df_1,10)\n",
        "pretty_print(\"df2\",df_2,10)"
      ],
      "metadata": {
        "colab": {
          "base_uri": "https://localhost:8080/"
        },
        "id": "tVcUr-FwjXol",
        "outputId": "a36c3742-3aed-43d3-b5de-6071f5535de4"
      },
      "execution_count": 3,
      "outputs": [
        {
          "output_type": "stream",
          "name": "stdout",
          "text": [
            "\n",
            "df1\n",
            "+----+------+---------+\n",
            "|    | id   | Name    |\n",
            "|----+------+---------|\n",
            "|  0 | A01  | Dog     |\n",
            "|  1 | A02  | Cat     |\n",
            "|  2 | A03  | Eagle   |\n",
            "|  3 | A04  | Peacock |\n",
            "+----+------+---------+\n",
            "\n",
            "df2\n",
            "+----+------+-----------+-------+\n",
            "|    | id   | City      |   Age |\n",
            "|----+------+-----------+-------|\n",
            "|  0 | A01  | SFO       |    12 |\n",
            "|  1 | A06  | Chennai   |    13 |\n",
            "|  2 | A02  | NYC       |    14 |\n",
            "|  3 | A07  | Bangalore |    12 |\n",
            "+----+------+-----------+-------+\n"
          ]
        }
      ]
    },
    {
      "cell_type": "markdown",
      "source": [
        "### **Merge**\n",
        "dataframe_1.merge(dataframe_2,on='common_column',how='left'/'outer'/'inner')"
      ],
      "metadata": {
        "id": "S2CLRye3hcol"
      }
    },
    {
      "cell_type": "markdown",
      "source": [
        "Outer->gives all rows from both dataframes"
      ],
      "metadata": {
        "id": "2YB_gDy-kBs1"
      }
    },
    {
      "cell_type": "code",
      "source": [
        "df_outer=df_1.merge(df_2,on='id',how='outer')\n",
        "print(df_outer)\n",
        "pretty_print(\"merged outer:\",df_outer,10)"
      ],
      "metadata": {
        "colab": {
          "base_uri": "https://localhost:8080/"
        },
        "id": "ovXBX62Tg75V",
        "outputId": "fb12865c-00d1-4d51-b45c-995f9809a4a3"
      },
      "execution_count": 4,
      "outputs": [
        {
          "output_type": "stream",
          "name": "stdout",
          "text": [
            "    id     Name       City  Age\n",
            "0  A01      Dog        SFO   12\n",
            "1  A02      Cat        NYC   14\n",
            "2  A03    Eagle        NaN  NaN\n",
            "3  A04  Peacock        NaN  NaN\n",
            "4  A06      NaN    Chennai   13\n",
            "5  A07      NaN  Bangalore   12\n",
            "\n",
            "merged outer:\n",
            "+----+------+---------+-----------+-------+\n",
            "|    | id   | Name    | City      |   Age |\n",
            "|----+------+---------+-----------+-------|\n",
            "|  0 | A01  | Dog     | SFO       |    12 |\n",
            "|  1 | A02  | Cat     | NYC       |    14 |\n",
            "|  2 | A03  | Eagle   | nan       |   nan |\n",
            "|  3 | A04  | Peacock | nan       |   nan |\n",
            "|  4 | A06  | nan     | Chennai   |    13 |\n",
            "|  5 | A07  | nan     | Bangalore |    12 |\n",
            "+----+------+---------+-----------+-------+\n"
          ]
        }
      ]
    },
    {
      "cell_type": "markdown",
      "source": [
        "inner->gives common rows from both data frames"
      ],
      "metadata": {
        "id": "fdC6zwB7kMj9"
      }
    },
    {
      "cell_type": "code",
      "source": [
        "df_inner = pd.merge(df_1, df_2, on='id', how='inner')\n",
        "pretty_print(\"merged inner:\", df_inner, 10)"
      ],
      "metadata": {
        "colab": {
          "base_uri": "https://localhost:8080/"
        },
        "id": "h_-vlcIJilMp",
        "outputId": "116b2cb3-a0ba-49a6-b2ba-f69112ddc85d"
      },
      "execution_count": 5,
      "outputs": [
        {
          "output_type": "stream",
          "name": "stdout",
          "text": [
            "\n",
            "merged inner:\n",
            "+----+------+--------+--------+-------+\n",
            "|    | id   | Name   | City   |   Age |\n",
            "|----+------+--------+--------+-------|\n",
            "|  0 | A01  | Dog    | SFO    |    12 |\n",
            "|  1 | A02  | Cat    | NYC    |    14 |\n",
            "+----+------+--------+--------+-------+\n"
          ]
        }
      ]
    },
    {
      "cell_type": "code",
      "source": [
        "#takes all the values from df1, if it exists on the df2\n",
        "#puts it values, otherwise nan\n",
        "df_left=df_1.merge(df_2,on='id',how='left')\n",
        "\n",
        "pretty_print(\"merged inner:\",df_left,10)"
      ],
      "metadata": {
        "colab": {
          "base_uri": "https://localhost:8080/"
        },
        "id": "NnPjIcpIkVLi",
        "outputId": "932565de-f82d-4780-e330-433a498ab58e"
      },
      "execution_count": 11,
      "outputs": [
        {
          "output_type": "stream",
          "name": "stdout",
          "text": [
            "\n",
            "merged inner:\n",
            "+----+------+---------+--------+-------+\n",
            "|    | id   | Name    | City   |   Age |\n",
            "|----+------+---------+--------+-------|\n",
            "|  0 | A01  | Dog     | SFO    |    12 |\n",
            "|  1 | A02  | Cat     | NYC    |    14 |\n",
            "|  2 | A03  | Eagle   | nan    |   nan |\n",
            "|  3 | A04  | Peacock | nan    |   nan |\n",
            "+----+------+---------+--------+-------+\n"
          ]
        }
      ]
    },
    {
      "cell_type": "markdown",
      "source": [
        "# **find rows in df2 which are not in df1**"
      ],
      "metadata": {
        "id": "7pXbiA_kr7hF"
      }
    },
    {
      "cell_type": "code",
      "source": [
        "df_new=df_left[df_left[\"City\"].isna()]\n",
        "print(df_new)"
      ],
      "metadata": {
        "colab": {
          "base_uri": "https://localhost:8080/"
        },
        "id": "Xzn4owkYr7Iy",
        "outputId": "426dceb7-89e2-46d5-ef2a-5bb155d1ae73"
      },
      "execution_count": 16,
      "outputs": [
        {
          "output_type": "stream",
          "name": "stdout",
          "text": [
            "    id     Name City  Age\n",
            "2  A03    Eagle  NaN  NaN\n",
            "3  A04  Peacock  NaN  NaN\n"
          ]
        }
      ]
    },
    {
      "cell_type": "code",
      "source": [
        "#takes all the values from df2, if it exists on the df1\n",
        "#puts it values, otherwise nan\n",
        "df_right=df_1.merge(df_2,on='id',how='right')\n",
        "\n",
        "pretty_print(\"merged inner:\",df_right,10)"
      ],
      "metadata": {
        "id": "7YZODD38lE5b",
        "colab": {
          "base_uri": "https://localhost:8080/"
        },
        "outputId": "e5601b5f-4677-4d6a-b7cc-fe3e0f329a51"
      },
      "execution_count": 9,
      "outputs": [
        {
          "output_type": "stream",
          "name": "stdout",
          "text": [
            "\n",
            "merged inner:\n",
            "+----+------+--------+-----------+-------+\n",
            "|    | id   | Name   | City      |   Age |\n",
            "|----+------+--------+-----------+-------|\n",
            "|  0 | A01  | Dog    | SFO       |    12 |\n",
            "|  1 | A06  | nan    | Chennai   |    13 |\n",
            "|  2 | A02  | Cat    | NYC       |    14 |\n",
            "|  3 | A07  | nan    | Bangalore |    12 |\n",
            "+----+------+--------+-----------+-------+\n"
          ]
        }
      ]
    },
    {
      "cell_type": "code",
      "source": [],
      "metadata": {
        "id": "usC-B2JmoD3O"
      },
      "execution_count": null,
      "outputs": []
    }
  ]
}